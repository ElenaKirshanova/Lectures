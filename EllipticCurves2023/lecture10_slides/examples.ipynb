{
 "cells": [
  {
   "cell_type": "code",
   "execution_count": 2,
   "id": "cbdd9f4c",
   "metadata": {},
   "outputs": [],
   "source": [
    "Fp = GF(7)"
   ]
  },
  {
   "cell_type": "code",
   "execution_count": 7,
   "id": "afacd30d",
   "metadata": {},
   "outputs": [
    {
     "data": {
      "text/plain": [
       "Elliptic Curve defined by y^2 = x^3 + 2*x + 4 over Finite Field of size 7"
      ]
     },
     "execution_count": 7,
     "metadata": {},
     "output_type": "execute_result"
    }
   ],
   "source": [
    "a = Fp.random_element()\n",
    "b = Fp.random_element()\n",
    "E = EllipticCurve([a,b])\n",
    "E\n",
    "# y^2 = x^3 + 2*x + 4"
   ]
  },
  {
   "cell_type": "code",
   "execution_count": null,
   "id": "9982bd86",
   "metadata": {},
   "outputs": [],
   "source": []
  },
  {
   "cell_type": "code",
   "execution_count": 13,
   "id": "d862d6ee",
   "metadata": {},
   "outputs": [
    {
     "data": {
      "text/plain": [
       "(3 : 3 : 1)"
      ]
     },
     "execution_count": 13,
     "metadata": {},
     "output_type": "execute_result"
    }
   ],
   "source": [
    "P = E.random_point(); P"
   ]
  },
  {
   "cell_type": "code",
   "execution_count": 19,
   "id": "f89f9ce3",
   "metadata": {},
   "outputs": [
    {
     "data": {
      "text/plain": [
       "5"
      ]
     },
     "execution_count": 19,
     "metadata": {},
     "output_type": "execute_result"
    }
   ],
   "source": [
    "P.order()"
   ]
  },
  {
   "cell_type": "code",
   "execution_count": 17,
   "id": "f7f1c086",
   "metadata": {},
   "outputs": [
    {
     "data": {
      "text/plain": [
       "Isogeny of degree 5 from Elliptic Curve defined by y^2 = x^3 + 2*x + 4 over Finite Field of size 7 to Elliptic Curve defined by y^2 = x^3 + 6*x + 4 over Finite Field of size 7"
      ]
     },
     "execution_count": 17,
     "metadata": {},
     "output_type": "execute_result"
    }
   ],
   "source": [
    "phi = E.isogeny(kernel=P, algorithm=\"velu\"); phi"
   ]
  },
  {
   "cell_type": "code",
   "execution_count": 138,
   "id": "b48964b6",
   "metadata": {},
   "outputs": [
    {
     "data": {
      "text/plain": [
       "((x^5 - 3*x^4 - 3*x^3 - 2*x^2 + 2*x + 3)/(x^4 - 3*x^3 + 2*x^2 + 3*x + 1),\n",
       " (x^6*y - x^5*y + 3*x^3*y + 3*x^2*y + 2*x*y)/(x^6 - x^5 + 2*x^4 + 3*x^3 - 2*x^2 - x - 1))"
      ]
     },
     "execution_count": 138,
     "metadata": {},
     "output_type": "execute_result"
    }
   ],
   "source": [
    "phi.rational_maps()"
   ]
  },
  {
   "cell_type": "code",
   "execution_count": 27,
   "id": "e5a20c3c",
   "metadata": {},
   "outputs": [
    {
     "data": {
      "text/plain": [
       "Elliptic Curve defined by y^2 = x^3 + 6*x + 4 over Finite Field of size 7"
      ]
     },
     "execution_count": 27,
     "metadata": {},
     "output_type": "execute_result"
    }
   ],
   "source": [
    "phi.codomain()"
   ]
  },
  {
   "cell_type": "code",
   "execution_count": 80,
   "id": "0417b027",
   "metadata": {},
   "outputs": [
    {
     "data": {
      "text/plain": [
       "5*x^12 + 5*x^10 + x^9 + 2*x^7 + 4*x^6 + x^5 + x^4 + 5*x^3 + x^2 + 6*x + 5"
      ]
     },
     "execution_count": 80,
     "metadata": {},
     "output_type": "execute_result"
    }
   ],
   "source": [
    "psi = E.division_polynomial(5); psi"
   ]
  },
  {
   "cell_type": "code",
   "execution_count": 85,
   "id": "0de0fcdd",
   "metadata": {},
   "outputs": [
    {
     "data": {
      "text/plain": [
       "Finite Field in z4 of size 7^4"
      ]
     },
     "execution_count": 85,
     "metadata": {},
     "output_type": "execute_result"
    }
   ],
   "source": [
    "Fp4 = Fp.extension(4); Fp4"
   ]
  },
  {
   "cell_type": "code",
   "execution_count": 97,
   "id": "9d8f042b",
   "metadata": {},
   "outputs": [
    {
     "data": {
      "text/plain": [
       "z4^4 + 5*z4^2 + 4*z4 + 3"
      ]
     },
     "execution_count": 97,
     "metadata": {},
     "output_type": "execute_result"
    }
   ],
   "source": [
    "Fp4.polynomial()\n",
    "# z4^4 + 5*z4^2 + 4*z4 + 3"
   ]
  },
  {
   "cell_type": "code",
   "execution_count": 89,
   "id": "ece44dba",
   "metadata": {},
   "outputs": [
    {
     "data": {
      "text/plain": [
       "(5) * (x + 4) * (x + 5) * (x + z4^3 + 4*z4^2 + 5*z4 + 6) * (x + z4^3 + 5*z4^2 + z4 + 2) * (x + 2*z4^3 + 6*z4^2 + 2*z4 + 5) * (x + 3*z4^3 + 3*z4 + 6) * (x + 3*z4^3 + z4^2 + 5*z4 + 1) * (x + 4*z4^3 + 2*z4^2 + 2*z4) * (x + 4*z4^3 + 6*z4^2 + 2*z4 + 6) * (x + 5*z4^3 + z4^2 + 5*z4 + 5) * (x + 6*z4^3 + z4 + 1) * (x + 6*z4^3 + 3*z4^2 + 2*z4 + 1)"
      ]
     },
     "execution_count": 89,
     "metadata": {},
     "output_type": "execute_result"
    }
   ],
   "source": [
    "L = psi.change_ring(Fp4).factor(); L"
   ]
  },
  {
   "cell_type": "code",
   "execution_count": 130,
   "id": "0c3b58af",
   "metadata": {},
   "outputs": [
    {
     "data": {
      "text/plain": [
       "5*z4^3 + z4^2 + 5*z4 + 2"
      ]
     },
     "execution_count": 130,
     "metadata": {},
     "output_type": "execute_result"
    }
   ],
   "source": [
    "P_x = -L[4][0].coefficients()[0]; P_x"
   ]
  },
  {
   "cell_type": "code",
   "execution_count": 131,
   "id": "9921a9c1",
   "metadata": {},
   "outputs": [
    {
     "data": {
      "text/plain": [
       "5*z4^3 + 6*z4^2 + 4*z4 + 2"
      ]
     },
     "execution_count": 131,
     "metadata": {},
     "output_type": "execute_result"
    }
   ],
   "source": [
    "P_y = (P_x^3 + 2*P_x + 4).sqrt(); P_y"
   ]
  },
  {
   "cell_type": "code",
   "execution_count": 132,
   "id": "7cc8d574",
   "metadata": {},
   "outputs": [
    {
     "data": {
      "text/plain": [
       "0"
      ]
     },
     "execution_count": 132,
     "metadata": {},
     "output_type": "execute_result"
    }
   ],
   "source": [
    "P_y^2-(P_x^3 + 2*P_x + 4)"
   ]
  },
  {
   "cell_type": "code",
   "execution_count": 133,
   "id": "522f413f",
   "metadata": {},
   "outputs": [
    {
     "data": {
      "text/plain": [
       "Elliptic Curve defined by y^2 = x^3 + 2*x + 4 over Finite Field in z4 of size 7^4"
      ]
     },
     "execution_count": 133,
     "metadata": {},
     "output_type": "execute_result"
    }
   ],
   "source": [
    "E4 = E.change_ring(Fp4); E4"
   ]
  },
  {
   "cell_type": "code",
   "execution_count": 134,
   "id": "ad086291",
   "metadata": {},
   "outputs": [
    {
     "data": {
      "text/plain": [
       "(5*z4^3 + z4^2 + 5*z4 + 2 : 5*z4^3 + 6*z4^2 + 4*z4 + 2 : 1)"
      ]
     },
     "execution_count": 134,
     "metadata": {},
     "output_type": "execute_result"
    }
   ],
   "source": [
    "P4 = E4(P_x,P_y); P4"
   ]
  },
  {
   "cell_type": "code",
   "execution_count": 135,
   "id": "c9abf727",
   "metadata": {},
   "outputs": [
    {
     "data": {
      "text/plain": [
       "Isogeny of degree 5 from Elliptic Curve defined by y^2 = x^3 + 2*x + 4 over Finite Field in z4 of size 7^4 to Elliptic Curve defined by y^2 = x^3 + 3*x + 4 over Finite Field in z4 of size 7^4"
      ]
     },
     "execution_count": 135,
     "metadata": {},
     "output_type": "execute_result"
    }
   ],
   "source": [
    "phi4 = E4.isogeny(P4); phi4"
   ]
  },
  {
   "cell_type": "code",
   "execution_count": 136,
   "id": "0b97dca8",
   "metadata": {},
   "outputs": [
    {
     "data": {
      "text/plain": [
       "((x^5 - x^4 - 3*x^3 - 3*x^2 - x - 2)/(x^4 - x^3 + x + 1),\n",
       " (x^6*y + 2*x^5*y - x^4*y + x^3*y - 2*x^2*y + 3*x*y - y)/(x^6 + 2*x^5 + 3*x^4 + 2*x^3 - 3*x^2 + 2*x - 1))"
      ]
     },
     "execution_count": 136,
     "metadata": {},
     "output_type": "execute_result"
    }
   ],
   "source": [
    "phi4.rational_maps()"
   ]
  },
  {
   "cell_type": "code",
   "execution_count": 240,
   "id": "b5f428a1",
   "metadata": {},
   "outputs": [
    {
     "data": {
      "text/plain": [
       "Isogeny of degree 5 from Elliptic Curve defined by y^2 = x^3 + 2*x + 4 over Finite Field in z4 of size 7^4 to Elliptic Curve defined by y^2 = x^3 + 3*x + 4 over Finite Field in z4 of size 7^4"
      ]
     },
     "execution_count": 240,
     "metadata": {},
     "output_type": "execute_result"
    }
   ],
   "source": [
    "phi4"
   ]
  },
  {
   "cell_type": "code",
   "execution_count": null,
   "id": "9c573f3d",
   "metadata": {},
   "outputs": [],
   "source": []
  },
  {
   "cell_type": "code",
   "execution_count": null,
   "id": "34c05325",
   "metadata": {},
   "outputs": [],
   "source": []
  }
 ],
 "metadata": {
  "kernelspec": {
   "display_name": "SageMath 9.5",
   "language": "sage",
   "name": "sagemath"
  },
  "language_info": {
   "codemirror_mode": {
    "name": "ipython",
    "version": 3
   },
   "file_extension": ".py",
   "mimetype": "text/x-python",
   "name": "python",
   "nbconvert_exporter": "python",
   "pygments_lexer": "ipython3",
   "version": "3.10.12"
  }
 },
 "nbformat": 4,
 "nbformat_minor": 5
}
